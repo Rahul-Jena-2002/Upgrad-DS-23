{
 "cells": [
  {
   "cell_type": "code",
   "execution_count": 1,
   "metadata": {},
   "outputs": [],
   "source": [
    "import numpy as np\n",
    "import pandas as pd"
   ]
  },
  {
   "cell_type": "code",
   "execution_count": 2,
   "metadata": {},
   "outputs": [],
   "source": [
    "df=pd.read_csv('MegaMart_sales.csv')"
   ]
  },
  {
   "cell_type": "code",
   "execution_count": 3,
   "metadata": {},
   "outputs": [],
   "source": [
    "df_new=pd.read_csv('MegaMart_newsales.csv')"
   ]
  },
  {
   "cell_type": "markdown",
   "metadata": {},
   "source": [
    "\n"
   ]
  },
  {
   "cell_type": "markdown",
   "metadata": {},
   "source": [
    "#### Combining two data frames\n",
    "Question 1: Some of the orders are stored in another csv file named `megamart_new sales`. Read the csv file, store it in a data frame and add it to the `megamart_sales` data frame. Find the total sales value of the category 'Office Supplies'  after combining the dataframes\n",
    "\n",
    "    a)7970\n",
    "    b)6964\n",
    "    c)7494\n",
    "    d)6076"
   ]
  },
  {
   "cell_type": "code",
   "execution_count": 4,
   "metadata": {},
   "outputs": [
    {
     "data": {
      "text/plain": [
       "7970"
      ]
     },
     "execution_count": 4,
     "metadata": {},
     "output_type": "execute_result"
    }
   ],
   "source": [
    "#your code here\n",
    "combined = pd.concat([df,df_new])\n",
    "tot_sales = combined.loc[combined['Category']=='Office Supplies','Sales'].sum()\n",
    "tot_sales\n",
    "df=pd.concat([df,df_new],axis=0,ignore_index=True) \n",
    "\n",
    "df.groupby(by='Category').Sales.sum()"
   ]
  },
  {
   "cell_type": "markdown",
   "metadata": {},
   "source": [
    "#### Dropping duplicates\n",
    "Question 2: There are some duplicate rows in the data frame. Drop these rows and calculate the total sales value of the category Office Supplies.\n",
    "\n",
    "    a)7156\n",
    "    b)6496\n",
    "    c)6964\n",
    "    d)6023"
   ]
  },
  {
   "cell_type": "code",
   "execution_count": 5,
   "metadata": {},
   "outputs": [
    {
     "data": {
      "text/plain": [
       "6964"
      ]
     },
     "execution_count": 5,
     "metadata": {},
     "output_type": "execute_result"
    }
   ],
   "source": [
    "#your code here\n",
    "combined = combined.drop_duplicates()\n",
    "tot_sales=combined.loc[combined['Category'] == 'Office Supplies', 'Sales'].sum()\n",
    "tot_sales\n",
    "df.drop_duplicates(subset=None,keep='first',inplace = True)\n",
    "df.groupby(by='Category').Sales.sum()"
   ]
  },
  {
   "cell_type": "markdown",
   "metadata": {},
   "source": [
    "#### Best category-sub category \n",
    "Question 3: Find the most profitable category and sub category combination based on the net profit.\n",
    "\n",
    "\n",
    "    a)Furniture-Bookcases\n",
    "    b)Office supplies-Appliances\n",
    "    c)Office supplies-Storage\n",
    "    d)Technology-Phones"
   ]
  },
  {
   "cell_type": "code",
   "execution_count": 6,
   "metadata": {},
   "outputs": [
    {
     "data": {
      "text/plain": [
       "('Technology', 'Phones')"
      ]
     },
     "execution_count": 6,
     "metadata": {},
     "output_type": "execute_result"
    }
   ],
   "source": [
    "#your code here\n",
    "grouped = combined.groupby(['Category', 'Sub-Category'])['Profit'].sum()\n",
    "most_profit = grouped.idxmax()\n",
    "most_profit\n",
    "df.groupby(by=['Category','Sub-Category']).Profit.sum()"
   ]
  },
  {
   "cell_type": "markdown",
   "metadata": {},
   "source": [
    "#### Invalid order IDs\n",
    "Question 4: How many invalid order IDs are there in the data frame. An order id is of the form AZ-2011-Y where Y represents a whole number. A Order ID is said to be valid only if Y consists of 7 digits. Find the number of valid order order IDs in the data frame.\n",
    "    \n",
    "    a)6\n",
    "    b)7\n",
    "    c)8\n",
    "    d)9\n"
   ]
  },
  {
   "cell_type": "code",
   "execution_count": 7,
   "metadata": {},
   "outputs": [
    {
     "data": {
      "text/plain": [
       "7"
      ]
     },
     "execution_count": 7,
     "metadata": {},
     "output_type": "execute_result"
    }
   ],
   "source": [
    "#your code here\n",
    "\n",
    "mask = combined['Order ID'].str.split('-').str[2].str.len() != 7\n",
    "mask.sum()\n",
    "df['Order no']=df['Order ID'].str.split('-')\n",
    "\n",
    "df['Order no']=df['Order no'].apply(lambda x: x[2])\n",
    "\n",
    "df['no_of_digits']=df['Order no'].apply(lambda x: len(x))\n",
    "\n",
    "df['no_of_digits'].value_counts()"
   ]
  },
  {
   "cell_type": "markdown",
   "metadata": {},
   "source": [
    "#### Occurence of furniture in top 25 sales\n",
    "Question 5: Find the top 25 orders based on sales value and find the number of orders which belong to furniture category.\n",
    "\n",
    "    a)2\n",
    "    b)3\n",
    "    c)4\n",
    "    d)5 "
   ]
  },
  {
   "cell_type": "code",
   "execution_count": 9,
   "metadata": {},
   "outputs": [
    {
     "data": {
      "text/plain": [
       "5"
      ]
     },
     "execution_count": 9,
     "metadata": {},
     "output_type": "execute_result"
    }
   ],
   "source": [
    "#your code here\n",
    "top_25 = combined.sort_values(by='Sales', ascending=False).head(25)\n",
    "furniture_count = (top_25['Category'] == 'Furniture').sum()\n",
    "furniture_count\n",
    "df2=df.sort_values(by='Sales', ascending=False)\n",
    "df2=df2.iloc[:25,]\n",
    "\n",
    "df2['Category'].value_counts()"
   ]
  },
  {
   "cell_type": "code",
   "execution_count": null,
   "metadata": {},
   "outputs": [],
   "source": []
  },
  {
   "cell_type": "markdown",
   "metadata": {},
   "source": [
    "#### And operation\n",
    "Question 6: Among the orders with sales>250 and profit>50, find the product name of the fourth highest order based on sales value.\n",
    "\n",
    "    a)Motorola Headset, with Caller ID\n",
    "    b)Panasonic Printer, Durable\t\n",
    "    c)Hoover Microwave, Red\t\n",
    "    d)Fellowes Lockers, Industrial\t"
   ]
  },
  {
   "cell_type": "code",
   "execution_count": 10,
   "metadata": {},
   "outputs": [
    {
     "data": {
      "text/plain": [
       "'Motorola Headset, with Caller ID'"
      ]
     },
     "execution_count": 10,
     "metadata": {},
     "output_type": "execute_result"
    }
   ],
   "source": [
    "#your code here\n",
    "mask = (combined['Sales'] > 250) & (combined['Profit'] > 50)\n",
    "\n",
    "# Filter the data using the boolean mask\n",
    "filtered_df = combined[mask]\n",
    "\n",
    "# Sort the filtered data by Sales value in descending order and select the fourth row\n",
    "fourth_highest = filtered_df.sort_values(by='Sales', ascending=False).iloc[3]\n",
    "\n",
    "# Get the product name of the fourth highest order\n",
    "product_name = fourth_highest['Product Name']\n",
    "product_name\n",
    "\n",
    "\n",
    "df3=df.loc[(df['Sales']>250) & (df['Profit']>50)]\n",
    "df3=df3.sort_values(by='Sales',ascending=False) \n",
    "\n",
    "\n"
   ]
  },
  {
   "cell_type": "markdown",
   "metadata": {},
   "source": [
    "#### Column manipulation\n",
    "Question 7: Remove the orders with negative profit by dropping the corresponding rows with negative `Profit`. Find the product that makes the lowest profit per Quantity in the Technology category.\n",
    "\n",
    "    a) Nokia Audio Dock, with Caller ID\n",
    "    b) Logitech Keyboard, Programmable\n",
    "    c) Motorola Headset, with Caller ID\n",
    "    d) Belkin Flash Drive, Bluetooth"
   ]
  },
  {
   "cell_type": "code",
   "execution_count": 12,
   "metadata": {},
   "outputs": [
    {
     "data": {
      "text/plain": [
       "'Logitech Keyboard, Programmable'"
      ]
     },
     "execution_count": 12,
     "metadata": {},
     "output_type": "execute_result"
    }
   ],
   "source": [
    "#your code here\n",
    "combined_df = pd.concat([df, df_new])\n",
    "\n",
    "# Drop duplicate rows\n",
    "combined_df = combined_df.drop_duplicates()\n",
    "\n",
    "# Create a boolean mask to identify orders with negative or no profit\n",
    "mask = combined_df['Profit'] <= 0\n",
    "\n",
    "# Drop rows with negative or no profit\n",
    "combined_df = combined_df[~mask]\n",
    "\n",
    "# Calculate the profit per quantity for each order\n",
    "combined_df['Profit per Quantity'] = combined_df['Profit'] / combined_df['Quantity']\n",
    "\n",
    "# Filter the data to only include orders in the 'Technology' category\n",
    "tech_df = combined_df[combined_df['Category'] == 'Technology']\n",
    "\n",
    "# Find the product that makes the lowest profit per quantity\n",
    "lowest_profit_product = tech_df.loc[tech_df['Profit per Quantity'].idxmin(), 'Product Name']\n",
    "\n",
    "lowest_profit_product\n",
    "\n",
    "\n",
    "\n",
    "\n",
    "\n",
    "\n",
    "\n",
    "df4=df[df.Profit>0]\n",
    "df4=df4.loc[df4.Category=='Technology']\n",
    "\n",
    "df4['Profit_per_qty']=df4['Profit']/df4['Quantity']\n",
    "\n",
    "df4.sort_values(by='Profit_per_qty',ascending=True)\n"
   ]
  },
  {
   "cell_type": "code",
   "execution_count": null,
   "metadata": {},
   "outputs": [],
   "source": []
  }
 ],
 "metadata": {
  "kernelspec": {
   "display_name": "Python 3 (ipykernel)",
   "language": "python",
   "name": "python3"
  },
  "language_info": {
   "codemirror_mode": {
    "name": "ipython",
    "version": 3
   },
   "file_extension": ".py",
   "mimetype": "text/x-python",
   "name": "python",
   "nbconvert_exporter": "python",
   "pygments_lexer": "ipython3",
   "version": "3.9.13"
  }
 },
 "nbformat": 4,
 "nbformat_minor": 2
}
